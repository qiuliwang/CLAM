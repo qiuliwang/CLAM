{
 "cells": [
  {
   "cell_type": "code",
   "execution_count": 13,
   "id": "afeeabb8",
   "metadata": {},
   "outputs": [],
   "source": [
    "import openslide \n",
    "import os\n",
    "import numpy as np"
   ]
  },
  {
   "cell_type": "code",
   "execution_count": 14,
   "id": "b0b7ad47",
   "metadata": {},
   "outputs": [
    {
     "name": "stdout",
     "output_type": "stream",
     "text": [
      "['C3L-03262-22.svs', '134B.tif', 'C3L-01663-21.svs']\n"
     ]
    }
   ],
   "source": [
    "data_path = 'DataSource/'\n",
    "\n",
    "files_ori = os.listdir(data_path)\n",
    "files = []\n",
    "for onefile in files_ori:\n",
    "    if 'DS_Store' not in onefile:\n",
    "        files.append(onefile)\n",
    "print(files)"
   ]
  },
  {
   "cell_type": "code",
   "execution_count": 15,
   "id": "adce5733",
   "metadata": {},
   "outputs": [
    {
     "name": "stdout",
     "output_type": "stream",
     "text": [
      "DataSource/C3L-03262-22.svs\n",
      "Level Count:  2\n",
      "Dimensions:  ((9959, 9023), (2489, 2255))\n",
      "Downsamples:  (1.0, 4.001267840137403)\n",
      "DataSource/134B.tif\n",
      "Level Count:  9\n",
      "Dimensions:  ((97216, 26240), (48608, 13120), (24304, 6560), (12152, 3280), (6076, 1640), (3038, 820), (1519, 410), (759, 205), (379, 102))\n",
      "Downsamples:  (1.0, 2.0, 4.0, 8.0, 16.0, 32.0, 64.0, 128.0421607378129, 256.88074913342643)\n",
      "DataSource/C3L-01663-21.svs\n",
      "Level Count:  3\n",
      "Dimensions:  ((13943, 14869), (3485, 3717), (1742, 1858))\n",
      "Downsamples:  (1.0, 4.000564933152536, 8.003354717676007)\n"
     ]
    }
   ],
   "source": [
    "for onefile in files:\n",
    "    temp_file = os.path.join(data_path, onefile)\n",
    "    print(temp_file)\n",
    "    slide = openslide.OpenSlide(temp_file)\n",
    "\n",
    "    print('Level Count: ', slide.level_count)\n",
    "    \n",
    "    dimensions = slide.level_dimensions\n",
    "    print('Dimensions: ', dimensions)\n",
    "\n",
    "    downsamples = slide.level_downsamples\n",
    "    print('Downsamples: ', downsamples)"
   ]
  },
  {
   "cell_type": "code",
   "execution_count": 36,
   "id": "9adcd678",
   "metadata": {},
   "outputs": [
    {
     "name": "stdout",
     "output_type": "stream",
     "text": [
      "Level Count:  9\n",
      "Dimensions:  ((97216, 26240), (48608, 13120), (24304, 6560), (12152, 3280), (6076, 1640), (3038, 820), (1519, 410), (759, 205), (379, 102))\n",
      "Downsamples:  (1.0, 2.0, 4.0, 8.0, 16.0, 32.0, 64.0, 128.0421607378129, 256.88074913342643)\n"
     ]
    }
   ],
   "source": [
    "slide = openslide.OpenSlide(os.path.join(data_path, files[1]))\n",
    "print('Level Count: ', slide.level_count)\n",
    "dimensions = slide.level_dimensions\n",
    "print('Dimensions: ', dimensions)\n",
    "downsamples = slide.level_downsamples\n",
    "print('Downsamples: ', downsamples)"
   ]
  },
  {
   "cell_type": "code",
   "execution_count": 37,
   "id": "059686d3",
   "metadata": {},
   "outputs": [
    {
     "name": "stdout",
     "output_type": "stream",
     "text": [
      "(410, 1519, 4)\n"
     ]
    }
   ],
   "source": [
    "# read_region(location, level, size)，Return an RGBA Image containing the contents of the specified region.\n",
    "# Parameters:  \n",
    "# location (tuple) tuple giving the top left pixel in the level 0 reference frame\n",
    "# level (int)  the level number\n",
    "# size (tuple) (width, height) tuple giving the region size\n",
    "# read_region()返回一个数组的rgba数值数组\n",
    "slide = openslide.OpenSlide(os.path.join(data_path, files[1]))\n",
    "read_slide = slide.read_region((0,0),8,slide.level_dimensions[6])\n",
    "slide = np.array(read_slide)\n",
    "print(slide.shape)"
   ]
  },
  {
   "cell_type": "code",
   "execution_count": 39,
   "id": "f71620f7",
   "metadata": {},
   "outputs": [
    {
     "name": "stdout",
     "output_type": "stream",
     "text": [
      "(97216, 26240)\n",
      "3.704878048780488\n",
      "(48608, 13120)\n",
      "3.704878048780488\n",
      "(24304, 6560)\n",
      "3.704878048780488\n",
      "(12152, 3280)\n",
      "3.704878048780488\n",
      "(6076, 1640)\n",
      "3.704878048780488\n",
      "(3038, 820)\n",
      "3.704878048780488\n",
      "(1519, 410)\n",
      "3.704878048780488\n",
      "(759, 205)\n",
      "3.702439024390244\n",
      "(379, 102)\n",
      "3.715686274509804\n"
     ]
    }
   ],
   "source": [
    "for one_dimension in dimensions:\n",
    "    print(one_dimension)\n",
    "    print(one_dimension[0] / one_dimension[1])"
   ]
  },
  {
   "cell_type": "code",
   "execution_count": 42,
   "id": "91ba2619",
   "metadata": {},
   "outputs": [],
   "source": [
    "import imageio\n",
    "imageio.imwrite('test.png', slide)"
   ]
  },
  {
   "cell_type": "code",
   "execution_count": 62,
   "id": "c35b280e",
   "metadata": {},
   "outputs": [
    {
     "name": "stdout",
     "output_type": "stream",
     "text": [
      "0\n",
      "RGBA\n",
      "RGB\n",
      "1\n",
      "RGBA\n",
      "RGB\n",
      "2\n",
      "RGBA\n",
      "RGB\n",
      "3\n",
      "RGBA\n",
      "RGB\n",
      "4\n",
      "RGBA\n",
      "RGB\n",
      "5\n",
      "RGBA\n",
      "RGB\n",
      "6\n",
      "RGBA\n",
      "RGB\n",
      "7\n",
      "RGBA\n",
      "RGB\n",
      "8\n",
      "RGBA\n",
      "RGB\n"
     ]
    }
   ],
   "source": [
    "from PIL import Image\n",
    "slide = openslide.OpenSlide(os.path.join(data_path, files[1]))\n",
    "dimensions = slide.level_count\n",
    "for one_dimension in range(dimensions):\n",
    "    if one_dimension == 3:\n",
    "        print(one_dimension)\n",
    "        read_slide = slide.read_region((0,0), one_dimension, slide.level_dimensions[one_dimension])\n",
    "        print(read_slide.mode)\n",
    "        read_slide = read_slide.convert('RGB')\n",
    "        print(read_slide.mode)\n",
    "\n",
    "        read_slide.save('read_slide_' + str(one_dimension) + '.png')\n",
    "    #     slide = np.array(read_slide)\n",
    "#     print(slide.shape)"
   ]
  },
  {
   "cell_type": "code",
   "execution_count": null,
   "id": "2e395eb5",
   "metadata": {},
   "outputs": [],
   "source": []
  }
 ],
 "metadata": {
  "kernelspec": {
   "display_name": "Python 3 (ipykernel)",
   "language": "python",
   "name": "python3"
  },
  "language_info": {
   "codemirror_mode": {
    "name": "ipython",
    "version": 3
   },
   "file_extension": ".py",
   "mimetype": "text/x-python",
   "name": "python",
   "nbconvert_exporter": "python",
   "pygments_lexer": "ipython3",
   "version": "3.9.7"
  }
 },
 "nbformat": 4,
 "nbformat_minor": 5
}
